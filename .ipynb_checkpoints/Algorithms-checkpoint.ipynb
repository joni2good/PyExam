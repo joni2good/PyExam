{
 "cells": [
  {
   "cell_type": "code",
   "execution_count": 3,
   "metadata": {},
   "outputs": [],
   "source": [
    "# [1,2,3,9] => sum = 8\n",
    "# [1,2,4,4] => sum = 8"
   ]
  },
  {
   "cell_type": "code",
   "execution_count": 5,
   "metadata": {},
   "outputs": [],
   "source": [
    "def simp_sol(l, sum):\n",
    "    for i in range(len(l)):\n",
    "        for j in range(i + 1, len(l)):\n",
    "            if l[i] + l[j] == sum:\n",
    "                return True\n",
    "    return False"
   ]
  },
  {
   "cell_type": "code",
   "execution_count": 7,
   "metadata": {},
   "outputs": [
    {
     "data": {
      "text/plain": [
       "False"
      ]
     },
     "execution_count": 7,
     "metadata": {},
     "output_type": "execute_result"
    }
   ],
   "source": [
    "simp_sol([1,2,3,9], 8)"
   ]
  },
  {
   "cell_type": "code",
   "execution_count": 8,
   "metadata": {},
   "outputs": [
    {
     "data": {
      "text/plain": [
       "True"
      ]
     },
     "execution_count": 8,
     "metadata": {},
     "output_type": "execute_result"
    }
   ],
   "source": [
    "simp_sol([1,2,4,4], 8)"
   ]
  },
  {
   "cell_type": "code",
   "execution_count": 10,
   "metadata": {},
   "outputs": [],
   "source": [
    "def has_pair_sum(l, sum):\n",
    "    first = 0\n",
    "    last = len(l) - 1\n",
    "    while first < last:\n",
    "        check = l[first] + l[last]\n",
    "        if check == sum:\n",
    "            return True\n",
    "        elif check > sum:\n",
    "            last -= 1\n",
    "        elif check < sum:\n",
    "            first += 1\n",
    "    return False"
   ]
  },
  {
   "cell_type": "code",
   "execution_count": 11,
   "metadata": {},
   "outputs": [
    {
     "data": {
      "text/plain": [
       "False"
      ]
     },
     "execution_count": 11,
     "metadata": {},
     "output_type": "execute_result"
    }
   ],
   "source": [
    "has_pair_sum([1,2,3,9], 8)"
   ]
  },
  {
   "cell_type": "code",
   "execution_count": 12,
   "metadata": {},
   "outputs": [
    {
     "data": {
      "text/plain": [
       "True"
      ]
     },
     "execution_count": 12,
     "metadata": {},
     "output_type": "execute_result"
    }
   ],
   "source": [
    "has_pair_sum([1,2,4,4], 8)"
   ]
  },
  {
   "cell_type": "code",
   "execution_count": 13,
   "metadata": {},
   "outputs": [],
   "source": [
    "def has_pair_sum_unordered(l, sum):\n",
    "    comp = set()\n",
    "    for i in l:\n",
    "        if i in comp:\n",
    "            return True\n",
    "        comp.add(sum - i)\n",
    "    return False"
   ]
  },
  {
   "cell_type": "code",
   "execution_count": 15,
   "metadata": {},
   "outputs": [
    {
     "data": {
      "text/plain": [
       "False"
      ]
     },
     "execution_count": 15,
     "metadata": {},
     "output_type": "execute_result"
    }
   ],
   "source": [
    "has_pair_sum_unordered([1,2,3,9], 8)"
   ]
  },
  {
   "cell_type": "code",
   "execution_count": 16,
   "metadata": {},
   "outputs": [
    {
     "data": {
      "text/plain": [
       "True"
      ]
     },
     "execution_count": 16,
     "metadata": {},
     "output_type": "execute_result"
    }
   ],
   "source": [
    "has_pair_sum_unordered([1,2,4,4], 8)"
   ]
  },
  {
   "cell_type": "code",
   "execution_count": 74,
   "metadata": {},
   "outputs": [],
   "source": [
    "import random\n",
    "\n",
    "class cust:\n",
    "    def __init__(self, passed=0, failed=0, fail_index=[]):\n",
    "        self.passed = passed\n",
    "        self.failed = failed\n",
    "        self.fail_index = fail_index\n",
    "        \n",
    "    def __str__(self):\n",
    "        return 'passed: ' + str(self.passed) + '\\nfailed: ' + str(self.failed) + '\\nfailed index: ' + str(self.fail_index)\n",
    "    \n",
    "    def clear(self):\n",
    "        self.passed = 0\n",
    "        self.failed = 0\n",
    "        self.fail_index = []\n",
    "    \n",
    "\n",
    "def gen_cards(size):\n",
    "    d = {}\n",
    "    cnt = 0\n",
    "    n = [0,1,2,3,4,5,6,7,8,9]\n",
    "    a = ['a', 'b', 'c', 'd', 'e', 'f', 'g', 'h', 'i', 'j', 'k', 'l', 'm', 'n', 'o', 'p', 'q', 'r', 's', 't', 'u', 'v', 'w', 'x', 'y', 'z']\n",
    "    while cnt < size:\n",
    "        d[random.choice(a)] = random.choice(n)\n",
    "        cnt += 1\n",
    "    return d\n",
    "\n",
    "def is_true(s):\n",
    "    l = []\n",
    "    a = ['a','e','i','o','u']\n",
    "    for key, value in s.items():\n",
    "        if key.lower() in a:\n",
    "            if value % 2 != 0:\n",
    "                l.append(False)\n",
    "        elif value % 2 == 0:\n",
    "            l.append(False)\n",
    "    \n",
    "    print(l)\n",
    "    if len(l) == 0:\n",
    "        return True\n",
    "    else:\n",
    "        return False\n",
    "\n",
    "\n",
    "cust = cust()\n",
    "def claim_true(l):\n",
    "    cust.clear()\n",
    "    cnt = 0\n",
    "    for i in l:\n",
    "        if is_true(i):\n",
    "            cust.passed += 1\n",
    "        else:\n",
    "            cust.failed += 1\n",
    "            cust.fail_index.append(cnt)\n",
    "        cnt += 1\n",
    "    return cust\n",
    "            "
   ]
  },
  {
   "cell_type": "code",
   "execution_count": 79,
   "metadata": {},
   "outputs": [
    {
     "name": "stdout",
     "output_type": "stream",
     "text": [
      "[{'p': 2, 'o': 0, 'a': 6, 'w': 0}, {'d': 3, 'm': 1, 't': 3, 'x': 3}, {'w': 6, 'i': 2, 'f': 6, 'u': 3}, {'u': 5, 'p': 4, 'q': 8, 'c': 2}]\n"
     ]
    }
   ],
   "source": [
    "card1 = gen_cards(4)\n",
    "card2 = gen_cards(4)\n",
    "card3 = gen_cards(4)\n",
    "card4 = gen_cards(4)\n",
    "\n",
    "l = [card1,card2,card3,card4]\n",
    "print(l)\n"
   ]
  },
  {
   "cell_type": "code",
   "execution_count": 80,
   "metadata": {},
   "outputs": [
    {
     "name": "stdout",
     "output_type": "stream",
     "text": [
      "[False, False]\n",
      "[]\n",
      "[False, False, False]\n",
      "[False, False, False, False]\n",
      "passed: 1\n",
      "failed: 3\n",
      "failed index: [0, 2, 3]\n"
     ]
    }
   ],
   "source": [
    "cust = claim_true(l)\n",
    "print(cust)"
   ]
  },
  {
   "cell_type": "code",
   "execution_count": null,
   "metadata": {},
   "outputs": [],
   "source": []
  }
 ],
 "metadata": {
  "kernelspec": {
   "display_name": "Python 3",
   "language": "python",
   "name": "python3"
  },
  "language_info": {
   "codemirror_mode": {
    "name": "ipython",
    "version": 3
   },
   "file_extension": ".py",
   "mimetype": "text/x-python",
   "name": "python",
   "nbconvert_exporter": "python",
   "pygments_lexer": "ipython3",
   "version": "3.8.5"
  }
 },
 "nbformat": 4,
 "nbformat_minor": 4
}
