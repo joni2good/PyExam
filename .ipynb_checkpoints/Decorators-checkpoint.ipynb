{
 "cells": [
  {
   "cell_type": "code",
   "execution_count": 13,
   "id": "practical-enforcement",
   "metadata": {},
   "outputs": [],
   "source": [
    "def my_first_func(func):\n",
    "    print(func([1,2,3]))\n",
    "    return None"
   ]
  },
  {
   "cell_type": "code",
   "execution_count": 14,
   "id": "descending-acrylic",
   "metadata": {},
   "outputs": [
    {
     "name": "stdout",
     "output_type": "stream",
     "text": [
      "3\n"
     ]
    }
   ],
   "source": [
    "x = my_first_func(len)"
   ]
  },
  {
   "cell_type": "markdown",
   "id": "afraid-norwegian",
   "metadata": {},
   "source": [
    "## inner functions"
   ]
  },
  {
   "cell_type": "code",
   "execution_count": 24,
   "id": "clinical-fifth",
   "metadata": {},
   "outputs": [],
   "source": [
    "def foo():\n",
    "    def inner():\n",
    "        return 'inner msg'\n",
    "    return inner"
   ]
  },
  {
   "cell_type": "code",
   "execution_count": 31,
   "id": "golden-hampshire",
   "metadata": {},
   "outputs": [
    {
     "data": {
      "text/plain": [
       "'inner msg'"
      ]
     },
     "execution_count": 31,
     "metadata": {},
     "output_type": "execute_result"
    }
   ],
   "source": [
    "x = foo()\n",
    "x()"
   ]
  },
  {
   "cell_type": "markdown",
   "id": "alert-saturn",
   "metadata": {},
   "source": [
    "# Decorators"
   ]
  },
  {
   "cell_type": "code",
   "execution_count": 84,
   "id": "beneficial-analyst",
   "metadata": {},
   "outputs": [],
   "source": [
    "def my_deco(func):\n",
    "    def wrapper():#<-- inner function\n",
    "        print('<h1>', end = '')\n",
    "        func()\n",
    "        print('</h1>')\n",
    "    return wrapper"
   ]
  },
  {
   "cell_type": "code",
   "execution_count": 85,
   "id": "smaller-terrorist",
   "metadata": {},
   "outputs": [],
   "source": [
    "def greet():\n",
    "    print('Hello there', end = '')"
   ]
  },
  {
   "cell_type": "code",
   "execution_count": 86,
   "id": "through-walnut",
   "metadata": {},
   "outputs": [
    {
     "name": "stdout",
     "output_type": "stream",
     "text": [
      "<h1>Hello there</h1>\n"
     ]
    }
   ],
   "source": [
    "x = my_deco(greet)\n",
    "x()"
   ]
  },
  {
   "cell_type": "markdown",
   "id": "formed-georgia",
   "metadata": {},
   "source": [
    "## Syntactic sugar"
   ]
  },
  {
   "cell_type": "code",
   "execution_count": 94,
   "id": "powered-rabbit",
   "metadata": {},
   "outputs": [],
   "source": [
    "@my_deco\n",
    "def greet_2():\n",
    "    print('Jonas er grim', end = '')"
   ]
  },
  {
   "cell_type": "code",
   "execution_count": 96,
   "id": "federal-pearl",
   "metadata": {},
   "outputs": [
    {
     "name": "stdout",
     "output_type": "stream",
     "text": [
      "<h1>Jonas er grim</h1>\n"
     ]
    }
   ],
   "source": [
    "greet_2()"
   ]
  },
  {
   "cell_type": "markdown",
   "id": "continuing-today",
   "metadata": {},
   "source": [
    "## Decorate funcs with parameters"
   ]
  },
  {
   "cell_type": "code",
   "execution_count": 121,
   "id": "dressed-accent",
   "metadata": {},
   "outputs": [],
   "source": [
    "def my_deco(func):\n",
    "    def wrapper(*args):\n",
    "        print('<h1>', end = '')\n",
    "        func(*args)\n",
    "        print('</h1>')\n",
    "    return wrapper"
   ]
  },
  {
   "cell_type": "code",
   "execution_count": 122,
   "id": "insured-aging",
   "metadata": {},
   "outputs": [],
   "source": [
    "@my_deco\n",
    "def greet(x, y):\n",
    "    print(f'Hello there {x} {y}', end = '')"
   ]
  },
  {
   "cell_type": "code",
   "execution_count": 123,
   "id": "immediate-evolution",
   "metadata": {},
   "outputs": [
    {
     "name": "stdout",
     "output_type": "stream",
     "text": [
      "<h1>Hello there Jonas Er grim</h1>\n"
     ]
    }
   ],
   "source": [
    "greet('Jonas', 'Er grim')# <-- this is the inner wrapper func"
   ]
  },
  {
   "cell_type": "code",
   "execution_count": 126,
   "id": "surrounded-partner",
   "metadata": {},
   "outputs": [],
   "source": [
    "@my_deco # <-- decorators can be used on different funcs\n",
    "def add(x, y):\n",
    "    print(f'{x + y}',end = '')"
   ]
  },
  {
   "cell_type": "code",
   "execution_count": 127,
   "id": "general-satellite",
   "metadata": {},
   "outputs": [
    {
     "name": "stdout",
     "output_type": "stream",
     "text": [
      "<h1>21</h1>\n"
     ]
    }
   ],
   "source": [
    "add(12, 9)"
   ]
  },
  {
   "cell_type": "markdown",
   "id": "psychological-pleasure",
   "metadata": {},
   "source": [
    "## Returning parameters from decorator"
   ]
  },
  {
   "cell_type": "code",
   "execution_count": 128,
   "id": "lovely-vector",
   "metadata": {},
   "outputs": [],
   "source": [
    "def my_sec_deco(func):\n",
    "    def wrapper(*args):\n",
    "        pass\n",
    "    return wrapper"
   ]
  },
  {
   "cell_type": "code",
   "execution_count": 130,
   "id": "incident-wildlife",
   "metadata": {},
   "outputs": [],
   "source": [
    "@my_sec_deco\n",
    "def msg(name):\n",
    "    return f'{name} er grim'"
   ]
  },
  {
   "cell_type": "markdown",
   "id": "finished-nomination",
   "metadata": {},
   "source": []
  }
 ],
 "metadata": {
  "kernelspec": {
   "display_name": "Python 3",
   "language": "python",
   "name": "python3"
  },
  "language_info": {
   "codemirror_mode": {
    "name": "ipython",
    "version": 3
   },
   "file_extension": ".py",
   "mimetype": "text/x-python",
   "name": "python",
   "nbconvert_exporter": "python",
   "pygments_lexer": "ipython3",
   "version": "3.8.8"
  }
 },
 "nbformat": 4,
 "nbformat_minor": 5
}
